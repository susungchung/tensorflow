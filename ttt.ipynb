{
 "cells": [
  {
   "cell_type": "code",
   "execution_count": 85,
   "metadata": {},
   "outputs": [],
   "source": [
    "#initialzie setups\n",
    "from enum import Enum\n",
    "class mode(Enum):\n",
    "    PvP = 0\n",
    "    PvA = 1\n",
    "    AvA = 2\n",
    "game_mode = mode.PvP"
   ]
  },
  {
   "cell_type": "code",
   "execution_count": 83,
   "metadata": {},
   "outputs": [],
   "source": [
    "class ttt():\n",
    "    board = [['-','-','-'],['-','-','-'],['-','-','-']]        \n",
    "    def draw(self):\n",
    "        for i in range(3):\n",
    "            print(\"\", end = \" \")\n",
    "            for j in range(3):\n",
    "                if (self.board[i][j] == '-'):\n",
    "                    print(\" \",end = ' ')\n",
    "                else:\n",
    "                    print(self.board[i][j],end = ' ')\n",
    "                if j !=2:\n",
    "                    print('|', end = ' ')\n",
    "            if i!=2:\n",
    "                print('\\n-----------')\n",
    "        print()\n",
    "                \n",
    "    def reset(self):\n",
    "        self.board = [['-','-','-'],['-','-','-'],['-','-','-']]\n",
    "    \n",
    "    def play(self,x,y,move):\n",
    "        if (self.board[x][y] == '-'):\n",
    "            self.board[x][y] = move\n",
    "        else:\n",
    "            print(\"ERROR\")\n",
    "        \n",
    "    def _check_diag(self,index):\n",
    "        if index == 0:\n",
    "            if self.board[0][0] == self.board[1][1] and self.board[1][1] == self.board[2][2]:\n",
    "                return self.board[0][0]\n",
    "            return '-'\n",
    "        else:\n",
    "            if self.board[2][0] == self.board[1][1] and self.board[1][1] == self.board[0][2]:\n",
    "                return self.board[0][0]\n",
    "            return '-'\n",
    "            \n",
    "    def _check_hori(self,index):\n",
    "        if self.board[index][0] == self.board[index][1] and self.board[index][1] == self.board[index][2]:\n",
    "            return self.board[index][0]\n",
    "        return '-'\n",
    "    \n",
    "    def _check_vert(self,index):\n",
    "        if self.board[0][index] == self.board[1][index] and self.board[1][index] == self.board[2][index]:\n",
    "            return self.board[0][index]\n",
    "        return '-'\n",
    "    \n",
    "    def is_over(self):\n",
    "        \"\"\" \n",
    "        return if game is over or not\n",
    "        \"\"\"\n",
    "        not_full = False\n",
    "        for i in range(3):\n",
    "            winner = ''\n",
    "            if (i <= 1):\n",
    "                winner = self._check_diag(i)\n",
    "                if (winner != '-'):\n",
    "                    return True,winner\n",
    "            winner = self._check_hori(i)\n",
    "            if (winner != '-'):\n",
    "                return True,winner\n",
    "            winner = self._check_vert(i)\n",
    "            if (winner != '-'):\n",
    "                return True,winner\n",
    "            for j in range(3):\n",
    "                if (self.board[i][j] == '-'):\n",
    "                    not_full = True\n",
    "        if not_full == False:\n",
    "            return false\n",
    "        return True,'-'\n",
    "        \n",
    "        "
   ]
  },
  {
   "cell_type": "code",
   "execution_count": null,
   "metadata": {},
   "outputs": [],
   "source": [
    "class AI():\n",
    "    pass\n",
    "    "
   ]
  },
  {
   "cell_type": "code",
   "execution_count": 84,
   "metadata": {},
   "outputs": [
    {
     "name": "stdout",
     "output_type": "stream",
     "text": [
      "   |   | o \n",
      "-----------\n",
      "   |   | o \n",
      "-----------\n",
      "   |   | o \n",
      "o\n"
     ]
    },
    {
     "data": {
      "text/plain": [
       "<mode.pvp: 0>"
      ]
     },
     "execution_count": 84,
     "metadata": {},
     "output_type": "execute_result"
    }
   ],
   "source": [
    "#main loop\n",
    "\n",
    "game = ttt()\n",
    "game.reset()\n",
    "game.play(0,2,\"o\")\n",
    "game.play(1,2,\"o\")\n",
    "game.play(2,2,\"o\")\n",
    "game.draw()\n",
    "result,winner = game.is_over()\n",
    "if(result):\n",
    "    print(winner)\n",
    "else:\n",
    "    print(\"not_done\")\n"
   ]
  },
  {
   "cell_type": "code",
   "execution_count": null,
   "metadata": {},
   "outputs": [],
   "source": []
  }
 ],
 "metadata": {
  "kernelspec": {
   "display_name": "Python 3",
   "language": "python",
   "name": "python3"
  },
  "language_info": {
   "codemirror_mode": {
    "name": "ipython",
    "version": 3
   },
   "file_extension": ".py",
   "mimetype": "text/x-python",
   "name": "python",
   "nbconvert_exporter": "python",
   "pygments_lexer": "ipython3",
   "version": "3.7.1"
  }
 },
 "nbformat": 4,
 "nbformat_minor": 2
}
